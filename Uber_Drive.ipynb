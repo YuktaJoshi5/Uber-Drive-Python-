{
  "cells": [
    {
      "cell_type": "markdown",
      "source": [
        "##OBJECTIVE : The project is based on the trips made by Uber drivers. Here, we are analyzing different aspects of the trips by doing Exploratory Data Analysis. "
      ],
      "metadata": {
        "id": "tGK9b05TTbo_"
      }
    },
    {
      "cell_type": "markdown",
      "metadata": {
        "id": "WiVXvuYj198C"
      },
      "source": [
        "# Load the necessary libraries. Import and load the dataset with a name uber_drives ."
      ]
    },
    {
      "cell_type": "code",
      "execution_count": null,
      "metadata": {
        "id": "1t_S2Qw_198D"
      },
      "outputs": [],
      "source": [
        "import numpy as np\n",
        "import pandas as pd\n"
      ]
    },
    {
      "cell_type": "code",
      "execution_count": null,
      "metadata": {
        "id": "rOMfio427XfR"
      },
      "outputs": [],
      "source": [
        "# Get the Data\n",
        "data = pd.read_csv('/content/uberdrive (1).csv')"
      ]
    },
    {
      "cell_type": "markdown",
      "metadata": {
        "id": "DZktgL3E198I"
      },
      "source": [
        "## Q1. Show the last 10 records of the dataset. (2 point)"
      ]
    },
    {
      "cell_type": "code",
      "execution_count": null,
      "metadata": {
        "colab": {
          "base_uri": "https://localhost:8080/",
          "height": 363
        },
        "id": "pk7z2uii198I",
        "outputId": "0a80c41b-3d97-44f3-9e04-343da4048474"
      },
      "outputs": [
        {
          "output_type": "execute_result",
          "data": {
            "text/plain": [
              "           START_DATE*         END_DATE* CATEGORY*            START*  \\\n",
              "1145  12/30/2016 10:15  12/30/2016 10:33  Business           Karachi   \n",
              "1146  12/30/2016 11:31  12/30/2016 11:56  Business           Karachi   \n",
              "1147  12/30/2016 15:41  12/30/2016 16:03  Business           Karachi   \n",
              "1148  12/30/2016 16:45  12/30/2016 17:08  Business           Karachi   \n",
              "1149  12/30/2016 23:06  12/30/2016 23:10  Business           Karachi   \n",
              "1150   12/31/2016 1:07   12/31/2016 1:14  Business           Karachi   \n",
              "1151  12/31/2016 13:24  12/31/2016 13:42  Business           Karachi   \n",
              "1152  12/31/2016 15:03  12/31/2016 15:38  Business  Unknown Location   \n",
              "1153  12/31/2016 21:32  12/31/2016 21:50  Business        Katunayake   \n",
              "1154  12/31/2016 22:08  12/31/2016 23:51  Business           Gampaha   \n",
              "\n",
              "                 STOP*  MILES*         PURPOSE*  \n",
              "1145           Karachi     2.8  Errand/Supplies  \n",
              "1146           Karachi     2.9  Errand/Supplies  \n",
              "1147           Karachi     4.6  Errand/Supplies  \n",
              "1148           Karachi     4.6          Meeting  \n",
              "1149           Karachi     0.8   Customer Visit  \n",
              "1150           Karachi     0.7          Meeting  \n",
              "1151  Unknown Location     3.9   Temporary Site  \n",
              "1152  Unknown Location    16.2          Meeting  \n",
              "1153           Gampaha     6.4   Temporary Site  \n",
              "1154         Ilukwatta    48.2   Temporary Site  "
            ],
            "text/html": [
              "\n",
              "  <div id=\"df-e70da50d-da54-435c-afbe-96b488cd1e61\">\n",
              "    <div class=\"colab-df-container\">\n",
              "      <div>\n",
              "<style scoped>\n",
              "    .dataframe tbody tr th:only-of-type {\n",
              "        vertical-align: middle;\n",
              "    }\n",
              "\n",
              "    .dataframe tbody tr th {\n",
              "        vertical-align: top;\n",
              "    }\n",
              "\n",
              "    .dataframe thead th {\n",
              "        text-align: right;\n",
              "    }\n",
              "</style>\n",
              "<table border=\"1\" class=\"dataframe\">\n",
              "  <thead>\n",
              "    <tr style=\"text-align: right;\">\n",
              "      <th></th>\n",
              "      <th>START_DATE*</th>\n",
              "      <th>END_DATE*</th>\n",
              "      <th>CATEGORY*</th>\n",
              "      <th>START*</th>\n",
              "      <th>STOP*</th>\n",
              "      <th>MILES*</th>\n",
              "      <th>PURPOSE*</th>\n",
              "    </tr>\n",
              "  </thead>\n",
              "  <tbody>\n",
              "    <tr>\n",
              "      <th>1145</th>\n",
              "      <td>12/30/2016 10:15</td>\n",
              "      <td>12/30/2016 10:33</td>\n",
              "      <td>Business</td>\n",
              "      <td>Karachi</td>\n",
              "      <td>Karachi</td>\n",
              "      <td>2.8</td>\n",
              "      <td>Errand/Supplies</td>\n",
              "    </tr>\n",
              "    <tr>\n",
              "      <th>1146</th>\n",
              "      <td>12/30/2016 11:31</td>\n",
              "      <td>12/30/2016 11:56</td>\n",
              "      <td>Business</td>\n",
              "      <td>Karachi</td>\n",
              "      <td>Karachi</td>\n",
              "      <td>2.9</td>\n",
              "      <td>Errand/Supplies</td>\n",
              "    </tr>\n",
              "    <tr>\n",
              "      <th>1147</th>\n",
              "      <td>12/30/2016 15:41</td>\n",
              "      <td>12/30/2016 16:03</td>\n",
              "      <td>Business</td>\n",
              "      <td>Karachi</td>\n",
              "      <td>Karachi</td>\n",
              "      <td>4.6</td>\n",
              "      <td>Errand/Supplies</td>\n",
              "    </tr>\n",
              "    <tr>\n",
              "      <th>1148</th>\n",
              "      <td>12/30/2016 16:45</td>\n",
              "      <td>12/30/2016 17:08</td>\n",
              "      <td>Business</td>\n",
              "      <td>Karachi</td>\n",
              "      <td>Karachi</td>\n",
              "      <td>4.6</td>\n",
              "      <td>Meeting</td>\n",
              "    </tr>\n",
              "    <tr>\n",
              "      <th>1149</th>\n",
              "      <td>12/30/2016 23:06</td>\n",
              "      <td>12/30/2016 23:10</td>\n",
              "      <td>Business</td>\n",
              "      <td>Karachi</td>\n",
              "      <td>Karachi</td>\n",
              "      <td>0.8</td>\n",
              "      <td>Customer Visit</td>\n",
              "    </tr>\n",
              "    <tr>\n",
              "      <th>1150</th>\n",
              "      <td>12/31/2016 1:07</td>\n",
              "      <td>12/31/2016 1:14</td>\n",
              "      <td>Business</td>\n",
              "      <td>Karachi</td>\n",
              "      <td>Karachi</td>\n",
              "      <td>0.7</td>\n",
              "      <td>Meeting</td>\n",
              "    </tr>\n",
              "    <tr>\n",
              "      <th>1151</th>\n",
              "      <td>12/31/2016 13:24</td>\n",
              "      <td>12/31/2016 13:42</td>\n",
              "      <td>Business</td>\n",
              "      <td>Karachi</td>\n",
              "      <td>Unknown Location</td>\n",
              "      <td>3.9</td>\n",
              "      <td>Temporary Site</td>\n",
              "    </tr>\n",
              "    <tr>\n",
              "      <th>1152</th>\n",
              "      <td>12/31/2016 15:03</td>\n",
              "      <td>12/31/2016 15:38</td>\n",
              "      <td>Business</td>\n",
              "      <td>Unknown Location</td>\n",
              "      <td>Unknown Location</td>\n",
              "      <td>16.2</td>\n",
              "      <td>Meeting</td>\n",
              "    </tr>\n",
              "    <tr>\n",
              "      <th>1153</th>\n",
              "      <td>12/31/2016 21:32</td>\n",
              "      <td>12/31/2016 21:50</td>\n",
              "      <td>Business</td>\n",
              "      <td>Katunayake</td>\n",
              "      <td>Gampaha</td>\n",
              "      <td>6.4</td>\n",
              "      <td>Temporary Site</td>\n",
              "    </tr>\n",
              "    <tr>\n",
              "      <th>1154</th>\n",
              "      <td>12/31/2016 22:08</td>\n",
              "      <td>12/31/2016 23:51</td>\n",
              "      <td>Business</td>\n",
              "      <td>Gampaha</td>\n",
              "      <td>Ilukwatta</td>\n",
              "      <td>48.2</td>\n",
              "      <td>Temporary Site</td>\n",
              "    </tr>\n",
              "  </tbody>\n",
              "</table>\n",
              "</div>\n",
              "      <button class=\"colab-df-convert\" onclick=\"convertToInteractive('df-e70da50d-da54-435c-afbe-96b488cd1e61')\"\n",
              "              title=\"Convert this dataframe to an interactive table.\"\n",
              "              style=\"display:none;\">\n",
              "        \n",
              "  <svg xmlns=\"http://www.w3.org/2000/svg\" height=\"24px\"viewBox=\"0 0 24 24\"\n",
              "       width=\"24px\">\n",
              "    <path d=\"M0 0h24v24H0V0z\" fill=\"none\"/>\n",
              "    <path d=\"M18.56 5.44l.94 2.06.94-2.06 2.06-.94-2.06-.94-.94-2.06-.94 2.06-2.06.94zm-11 1L8.5 8.5l.94-2.06 2.06-.94-2.06-.94L8.5 2.5l-.94 2.06-2.06.94zm10 10l.94 2.06.94-2.06 2.06-.94-2.06-.94-.94-2.06-.94 2.06-2.06.94z\"/><path d=\"M17.41 7.96l-1.37-1.37c-.4-.4-.92-.59-1.43-.59-.52 0-1.04.2-1.43.59L10.3 9.45l-7.72 7.72c-.78.78-.78 2.05 0 2.83L4 21.41c.39.39.9.59 1.41.59.51 0 1.02-.2 1.41-.59l7.78-7.78 2.81-2.81c.8-.78.8-2.07 0-2.86zM5.41 20L4 18.59l7.72-7.72 1.47 1.35L5.41 20z\"/>\n",
              "  </svg>\n",
              "      </button>\n",
              "      \n",
              "  <style>\n",
              "    .colab-df-container {\n",
              "      display:flex;\n",
              "      flex-wrap:wrap;\n",
              "      gap: 12px;\n",
              "    }\n",
              "\n",
              "    .colab-df-convert {\n",
              "      background-color: #E8F0FE;\n",
              "      border: none;\n",
              "      border-radius: 50%;\n",
              "      cursor: pointer;\n",
              "      display: none;\n",
              "      fill: #1967D2;\n",
              "      height: 32px;\n",
              "      padding: 0 0 0 0;\n",
              "      width: 32px;\n",
              "    }\n",
              "\n",
              "    .colab-df-convert:hover {\n",
              "      background-color: #E2EBFA;\n",
              "      box-shadow: 0px 1px 2px rgba(60, 64, 67, 0.3), 0px 1px 3px 1px rgba(60, 64, 67, 0.15);\n",
              "      fill: #174EA6;\n",
              "    }\n",
              "\n",
              "    [theme=dark] .colab-df-convert {\n",
              "      background-color: #3B4455;\n",
              "      fill: #D2E3FC;\n",
              "    }\n",
              "\n",
              "    [theme=dark] .colab-df-convert:hover {\n",
              "      background-color: #434B5C;\n",
              "      box-shadow: 0px 1px 3px 1px rgba(0, 0, 0, 0.15);\n",
              "      filter: drop-shadow(0px 1px 2px rgba(0, 0, 0, 0.3));\n",
              "      fill: #FFFFFF;\n",
              "    }\n",
              "  </style>\n",
              "\n",
              "      <script>\n",
              "        const buttonEl =\n",
              "          document.querySelector('#df-e70da50d-da54-435c-afbe-96b488cd1e61 button.colab-df-convert');\n",
              "        buttonEl.style.display =\n",
              "          google.colab.kernel.accessAllowed ? 'block' : 'none';\n",
              "\n",
              "        async function convertToInteractive(key) {\n",
              "          const element = document.querySelector('#df-e70da50d-da54-435c-afbe-96b488cd1e61');\n",
              "          const dataTable =\n",
              "            await google.colab.kernel.invokeFunction('convertToInteractive',\n",
              "                                                     [key], {});\n",
              "          if (!dataTable) return;\n",
              "\n",
              "          const docLinkHtml = 'Like what you see? Visit the ' +\n",
              "            '<a target=\"_blank\" href=https://colab.research.google.com/notebooks/data_table.ipynb>data table notebook</a>'\n",
              "            + ' to learn more about interactive tables.';\n",
              "          element.innerHTML = '';\n",
              "          dataTable['output_type'] = 'display_data';\n",
              "          await google.colab.output.renderOutput(dataTable, element);\n",
              "          const docLink = document.createElement('div');\n",
              "          docLink.innerHTML = docLinkHtml;\n",
              "          element.appendChild(docLink);\n",
              "        }\n",
              "      </script>\n",
              "    </div>\n",
              "  </div>\n",
              "  "
            ]
          },
          "metadata": {},
          "execution_count": 18
        }
      ],
      "source": [
        "data.tail(10)"
      ]
    },
    {
      "cell_type": "markdown",
      "metadata": {
        "id": "ipD0ZQ9O198O"
      },
      "source": [
        "## Q2. Show the first 10 records of the dataset. (2 points)"
      ]
    },
    {
      "cell_type": "code",
      "execution_count": null,
      "metadata": {
        "colab": {
          "base_uri": "https://localhost:8080/",
          "height": 363
        },
        "id": "XzYRsxR1198O",
        "outputId": "86a73f21-76dc-4dd7-8d74-7349dba5c3c1"
      },
      "outputs": [
        {
          "output_type": "execute_result",
          "data": {
            "text/plain": [
              "        START_DATE*         END_DATE* CATEGORY*           START*  \\\n",
              "0  01-01-2016 21:11  01-01-2016 21:17  Business      Fort Pierce   \n",
              "1  01-02-2016 01:25  01-02-2016 01:37  Business      Fort Pierce   \n",
              "2  01-02-2016 20:25  01-02-2016 20:38  Business      Fort Pierce   \n",
              "3  01-05-2016 17:31  01-05-2016 17:45  Business      Fort Pierce   \n",
              "4  01-06-2016 14:42  01-06-2016 15:49  Business      Fort Pierce   \n",
              "5  01-06-2016 17:15  01-06-2016 17:19  Business  West Palm Beach   \n",
              "6  01-06-2016 17:30  01-06-2016 17:35  Business  West Palm Beach   \n",
              "7  01-07-2016 13:27  01-07-2016 13:33  Business             Cary   \n",
              "8  01-10-2016 08:05  01-10-2016 08:25  Business             Cary   \n",
              "9  01-10-2016 12:17  01-10-2016 12:44  Business          Jamaica   \n",
              "\n",
              "             STOP*  MILES*         PURPOSE*  \n",
              "0      Fort Pierce     5.1   Meal/Entertain  \n",
              "1      Fort Pierce     5.0              NaN  \n",
              "2      Fort Pierce     4.8  Errand/Supplies  \n",
              "3      Fort Pierce     4.7          Meeting  \n",
              "4  West Palm Beach    63.7   Customer Visit  \n",
              "5  West Palm Beach     4.3   Meal/Entertain  \n",
              "6       Palm Beach     7.1          Meeting  \n",
              "7             Cary     0.8          Meeting  \n",
              "8      Morrisville     8.3          Meeting  \n",
              "9         New York    16.5   Customer Visit  "
            ],
            "text/html": [
              "\n",
              "  <div id=\"df-5b2fc9e2-25e5-44f9-9014-9b7d070e4e22\">\n",
              "    <div class=\"colab-df-container\">\n",
              "      <div>\n",
              "<style scoped>\n",
              "    .dataframe tbody tr th:only-of-type {\n",
              "        vertical-align: middle;\n",
              "    }\n",
              "\n",
              "    .dataframe tbody tr th {\n",
              "        vertical-align: top;\n",
              "    }\n",
              "\n",
              "    .dataframe thead th {\n",
              "        text-align: right;\n",
              "    }\n",
              "</style>\n",
              "<table border=\"1\" class=\"dataframe\">\n",
              "  <thead>\n",
              "    <tr style=\"text-align: right;\">\n",
              "      <th></th>\n",
              "      <th>START_DATE*</th>\n",
              "      <th>END_DATE*</th>\n",
              "      <th>CATEGORY*</th>\n",
              "      <th>START*</th>\n",
              "      <th>STOP*</th>\n",
              "      <th>MILES*</th>\n",
              "      <th>PURPOSE*</th>\n",
              "    </tr>\n",
              "  </thead>\n",
              "  <tbody>\n",
              "    <tr>\n",
              "      <th>0</th>\n",
              "      <td>01-01-2016 21:11</td>\n",
              "      <td>01-01-2016 21:17</td>\n",
              "      <td>Business</td>\n",
              "      <td>Fort Pierce</td>\n",
              "      <td>Fort Pierce</td>\n",
              "      <td>5.1</td>\n",
              "      <td>Meal/Entertain</td>\n",
              "    </tr>\n",
              "    <tr>\n",
              "      <th>1</th>\n",
              "      <td>01-02-2016 01:25</td>\n",
              "      <td>01-02-2016 01:37</td>\n",
              "      <td>Business</td>\n",
              "      <td>Fort Pierce</td>\n",
              "      <td>Fort Pierce</td>\n",
              "      <td>5.0</td>\n",
              "      <td>NaN</td>\n",
              "    </tr>\n",
              "    <tr>\n",
              "      <th>2</th>\n",
              "      <td>01-02-2016 20:25</td>\n",
              "      <td>01-02-2016 20:38</td>\n",
              "      <td>Business</td>\n",
              "      <td>Fort Pierce</td>\n",
              "      <td>Fort Pierce</td>\n",
              "      <td>4.8</td>\n",
              "      <td>Errand/Supplies</td>\n",
              "    </tr>\n",
              "    <tr>\n",
              "      <th>3</th>\n",
              "      <td>01-05-2016 17:31</td>\n",
              "      <td>01-05-2016 17:45</td>\n",
              "      <td>Business</td>\n",
              "      <td>Fort Pierce</td>\n",
              "      <td>Fort Pierce</td>\n",
              "      <td>4.7</td>\n",
              "      <td>Meeting</td>\n",
              "    </tr>\n",
              "    <tr>\n",
              "      <th>4</th>\n",
              "      <td>01-06-2016 14:42</td>\n",
              "      <td>01-06-2016 15:49</td>\n",
              "      <td>Business</td>\n",
              "      <td>Fort Pierce</td>\n",
              "      <td>West Palm Beach</td>\n",
              "      <td>63.7</td>\n",
              "      <td>Customer Visit</td>\n",
              "    </tr>\n",
              "    <tr>\n",
              "      <th>5</th>\n",
              "      <td>01-06-2016 17:15</td>\n",
              "      <td>01-06-2016 17:19</td>\n",
              "      <td>Business</td>\n",
              "      <td>West Palm Beach</td>\n",
              "      <td>West Palm Beach</td>\n",
              "      <td>4.3</td>\n",
              "      <td>Meal/Entertain</td>\n",
              "    </tr>\n",
              "    <tr>\n",
              "      <th>6</th>\n",
              "      <td>01-06-2016 17:30</td>\n",
              "      <td>01-06-2016 17:35</td>\n",
              "      <td>Business</td>\n",
              "      <td>West Palm Beach</td>\n",
              "      <td>Palm Beach</td>\n",
              "      <td>7.1</td>\n",
              "      <td>Meeting</td>\n",
              "    </tr>\n",
              "    <tr>\n",
              "      <th>7</th>\n",
              "      <td>01-07-2016 13:27</td>\n",
              "      <td>01-07-2016 13:33</td>\n",
              "      <td>Business</td>\n",
              "      <td>Cary</td>\n",
              "      <td>Cary</td>\n",
              "      <td>0.8</td>\n",
              "      <td>Meeting</td>\n",
              "    </tr>\n",
              "    <tr>\n",
              "      <th>8</th>\n",
              "      <td>01-10-2016 08:05</td>\n",
              "      <td>01-10-2016 08:25</td>\n",
              "      <td>Business</td>\n",
              "      <td>Cary</td>\n",
              "      <td>Morrisville</td>\n",
              "      <td>8.3</td>\n",
              "      <td>Meeting</td>\n",
              "    </tr>\n",
              "    <tr>\n",
              "      <th>9</th>\n",
              "      <td>01-10-2016 12:17</td>\n",
              "      <td>01-10-2016 12:44</td>\n",
              "      <td>Business</td>\n",
              "      <td>Jamaica</td>\n",
              "      <td>New York</td>\n",
              "      <td>16.5</td>\n",
              "      <td>Customer Visit</td>\n",
              "    </tr>\n",
              "  </tbody>\n",
              "</table>\n",
              "</div>\n",
              "      <button class=\"colab-df-convert\" onclick=\"convertToInteractive('df-5b2fc9e2-25e5-44f9-9014-9b7d070e4e22')\"\n",
              "              title=\"Convert this dataframe to an interactive table.\"\n",
              "              style=\"display:none;\">\n",
              "        \n",
              "  <svg xmlns=\"http://www.w3.org/2000/svg\" height=\"24px\"viewBox=\"0 0 24 24\"\n",
              "       width=\"24px\">\n",
              "    <path d=\"M0 0h24v24H0V0z\" fill=\"none\"/>\n",
              "    <path d=\"M18.56 5.44l.94 2.06.94-2.06 2.06-.94-2.06-.94-.94-2.06-.94 2.06-2.06.94zm-11 1L8.5 8.5l.94-2.06 2.06-.94-2.06-.94L8.5 2.5l-.94 2.06-2.06.94zm10 10l.94 2.06.94-2.06 2.06-.94-2.06-.94-.94-2.06-.94 2.06-2.06.94z\"/><path d=\"M17.41 7.96l-1.37-1.37c-.4-.4-.92-.59-1.43-.59-.52 0-1.04.2-1.43.59L10.3 9.45l-7.72 7.72c-.78.78-.78 2.05 0 2.83L4 21.41c.39.39.9.59 1.41.59.51 0 1.02-.2 1.41-.59l7.78-7.78 2.81-2.81c.8-.78.8-2.07 0-2.86zM5.41 20L4 18.59l7.72-7.72 1.47 1.35L5.41 20z\"/>\n",
              "  </svg>\n",
              "      </button>\n",
              "      \n",
              "  <style>\n",
              "    .colab-df-container {\n",
              "      display:flex;\n",
              "      flex-wrap:wrap;\n",
              "      gap: 12px;\n",
              "    }\n",
              "\n",
              "    .colab-df-convert {\n",
              "      background-color: #E8F0FE;\n",
              "      border: none;\n",
              "      border-radius: 50%;\n",
              "      cursor: pointer;\n",
              "      display: none;\n",
              "      fill: #1967D2;\n",
              "      height: 32px;\n",
              "      padding: 0 0 0 0;\n",
              "      width: 32px;\n",
              "    }\n",
              "\n",
              "    .colab-df-convert:hover {\n",
              "      background-color: #E2EBFA;\n",
              "      box-shadow: 0px 1px 2px rgba(60, 64, 67, 0.3), 0px 1px 3px 1px rgba(60, 64, 67, 0.15);\n",
              "      fill: #174EA6;\n",
              "    }\n",
              "\n",
              "    [theme=dark] .colab-df-convert {\n",
              "      background-color: #3B4455;\n",
              "      fill: #D2E3FC;\n",
              "    }\n",
              "\n",
              "    [theme=dark] .colab-df-convert:hover {\n",
              "      background-color: #434B5C;\n",
              "      box-shadow: 0px 1px 3px 1px rgba(0, 0, 0, 0.15);\n",
              "      filter: drop-shadow(0px 1px 2px rgba(0, 0, 0, 0.3));\n",
              "      fill: #FFFFFF;\n",
              "    }\n",
              "  </style>\n",
              "\n",
              "      <script>\n",
              "        const buttonEl =\n",
              "          document.querySelector('#df-5b2fc9e2-25e5-44f9-9014-9b7d070e4e22 button.colab-df-convert');\n",
              "        buttonEl.style.display =\n",
              "          google.colab.kernel.accessAllowed ? 'block' : 'none';\n",
              "\n",
              "        async function convertToInteractive(key) {\n",
              "          const element = document.querySelector('#df-5b2fc9e2-25e5-44f9-9014-9b7d070e4e22');\n",
              "          const dataTable =\n",
              "            await google.colab.kernel.invokeFunction('convertToInteractive',\n",
              "                                                     [key], {});\n",
              "          if (!dataTable) return;\n",
              "\n",
              "          const docLinkHtml = 'Like what you see? Visit the ' +\n",
              "            '<a target=\"_blank\" href=https://colab.research.google.com/notebooks/data_table.ipynb>data table notebook</a>'\n",
              "            + ' to learn more about interactive tables.';\n",
              "          element.innerHTML = '';\n",
              "          dataTable['output_type'] = 'display_data';\n",
              "          await google.colab.output.renderOutput(dataTable, element);\n",
              "          const docLink = document.createElement('div');\n",
              "          docLink.innerHTML = docLinkHtml;\n",
              "          element.appendChild(docLink);\n",
              "        }\n",
              "      </script>\n",
              "    </div>\n",
              "  </div>\n",
              "  "
            ]
          },
          "metadata": {},
          "execution_count": 19
        }
      ],
      "source": [
        "data.head(10)"
      ]
    },
    {
      "cell_type": "markdown",
      "metadata": {
        "id": "R2F4GX15198S"
      },
      "source": [
        "## Q3. Show the dimension(number of rows and columns) of the dataset. (2 points)"
      ]
    },
    {
      "cell_type": "code",
      "execution_count": null,
      "metadata": {
        "colab": {
          "base_uri": "https://localhost:8080/"
        },
        "id": "5YAWUNwZ198T",
        "outputId": "f51fe781-c921-499b-cd1d-f0a0a60ae5fa"
      },
      "outputs": [
        {
          "output_type": "execute_result",
          "data": {
            "text/plain": [
              "(1155, 7)"
            ]
          },
          "metadata": {},
          "execution_count": 20
        }
      ],
      "source": [
        "data.shape"
      ]
    },
    {
      "cell_type": "markdown",
      "metadata": {
        "id": "H6x0S6vs198W"
      },
      "source": [
        "## Q4. Show the size (Total number of elements) of the dataset. (2 points)"
      ]
    },
    {
      "cell_type": "code",
      "execution_count": null,
      "metadata": {
        "colab": {
          "base_uri": "https://localhost:8080/"
        },
        "id": "2IQc1x7D198X",
        "outputId": "c042c220-0a26-4600-df2d-ed157e6400b2"
      },
      "outputs": [
        {
          "output_type": "execute_result",
          "data": {
            "text/plain": [
              "8085"
            ]
          },
          "metadata": {},
          "execution_count": 21
        }
      ],
      "source": [
        "data.size"
      ]
    },
    {
      "cell_type": "markdown",
      "metadata": {
        "id": "c2ATRpjm198a"
      },
      "source": [
        "## Q5. Print the information about all the variables of the data set. (2 points)"
      ]
    },
    {
      "cell_type": "code",
      "execution_count": null,
      "metadata": {
        "colab": {
          "base_uri": "https://localhost:8080/"
        },
        "id": "D7Pfnrb6198b",
        "outputId": "14d8f262-5bf4-40e7-91a2-8ef6c5fcf57e"
      },
      "outputs": [
        {
          "output_type": "stream",
          "name": "stdout",
          "text": [
            "<class 'pandas.core.frame.DataFrame'>\n",
            "RangeIndex: 1155 entries, 0 to 1154\n",
            "Data columns (total 7 columns):\n",
            " #   Column       Non-Null Count  Dtype  \n",
            "---  ------       --------------  -----  \n",
            " 0   START_DATE*  1155 non-null   object \n",
            " 1   END_DATE*    1155 non-null   object \n",
            " 2   CATEGORY*    1155 non-null   object \n",
            " 3   START*       1155 non-null   object \n",
            " 4   STOP*        1155 non-null   object \n",
            " 5   MILES*       1155 non-null   float64\n",
            " 6   PURPOSE*     653 non-null    object \n",
            "dtypes: float64(1), object(6)\n",
            "memory usage: 63.3+ KB\n"
          ]
        }
      ],
      "source": [
        "data.info()"
      ]
    },
    {
      "cell_type": "markdown",
      "metadata": {
        "id": "emZkbUV_198g"
      },
      "source": [
        "## Q6. Check for missing values. (2 points) -  Note: Output should be boolean only."
      ]
    },
    {
      "cell_type": "code",
      "execution_count": null,
      "metadata": {
        "colab": {
          "base_uri": "https://localhost:8080/"
        },
        "id": "XWU-AunT198h",
        "outputId": "cfab1af1-f389-4681-c8e7-2caca6583240"
      },
      "outputs": [
        {
          "output_type": "execute_result",
          "data": {
            "text/plain": [
              "START_DATE*    False\n",
              "END_DATE*      False\n",
              "CATEGORY*      False\n",
              "START*         False\n",
              "STOP*          False\n",
              "MILES*         False\n",
              "PURPOSE*        True\n",
              "dtype: bool"
            ]
          },
          "metadata": {},
          "execution_count": 23
        }
      ],
      "source": [
        "data.isnull().any()"
      ]
    },
    {
      "cell_type": "markdown",
      "source": [
        "Purpose feature has null values in it."
      ],
      "metadata": {
        "id": "Wk_bzeGT9gcx"
      }
    },
    {
      "cell_type": "markdown",
      "metadata": {
        "id": "UCvC2OPe198l"
      },
      "source": [
        "## Q7. How many missing values are present? (2 points)"
      ]
    },
    {
      "cell_type": "code",
      "execution_count": null,
      "metadata": {
        "colab": {
          "base_uri": "https://localhost:8080/"
        },
        "id": "o2-vHyGA198m",
        "outputId": "0847cfb6-79c3-4699-b6f1-523e4f0cab92"
      },
      "outputs": [
        {
          "output_type": "execute_result",
          "data": {
            "text/plain": [
              "START_DATE*      0\n",
              "END_DATE*        0\n",
              "CATEGORY*        0\n",
              "START*           0\n",
              "STOP*            0\n",
              "MILES*           0\n",
              "PURPOSE*       502\n",
              "dtype: int64"
            ]
          },
          "metadata": {},
          "execution_count": 24
        }
      ],
      "source": [
        "data.isnull().sum()"
      ]
    },
    {
      "cell_type": "markdown",
      "metadata": {
        "id": "617aSeL_198q"
      },
      "source": [
        "## Q8. Get the summary of the original data. (2 points). Hint:Outcome will contain only numerical column."
      ]
    },
    {
      "cell_type": "code",
      "execution_count": null,
      "metadata": {
        "colab": {
          "base_uri": "https://localhost:8080/",
          "height": 300
        },
        "id": "hMkibRQg198q",
        "outputId": "86ab15f0-dd48-4c2e-f497-44af54dfdf9b"
      },
      "outputs": [
        {
          "output_type": "execute_result",
          "data": {
            "text/plain": [
              "            MILES*\n",
              "count  1155.000000\n",
              "mean     10.566840\n",
              "std      21.579106\n",
              "min       0.500000\n",
              "25%       2.900000\n",
              "50%       6.000000\n",
              "75%      10.400000\n",
              "max     310.300000"
            ],
            "text/html": [
              "\n",
              "  <div id=\"df-32367fb4-8b15-40a2-954d-d312cade5a29\">\n",
              "    <div class=\"colab-df-container\">\n",
              "      <div>\n",
              "<style scoped>\n",
              "    .dataframe tbody tr th:only-of-type {\n",
              "        vertical-align: middle;\n",
              "    }\n",
              "\n",
              "    .dataframe tbody tr th {\n",
              "        vertical-align: top;\n",
              "    }\n",
              "\n",
              "    .dataframe thead th {\n",
              "        text-align: right;\n",
              "    }\n",
              "</style>\n",
              "<table border=\"1\" class=\"dataframe\">\n",
              "  <thead>\n",
              "    <tr style=\"text-align: right;\">\n",
              "      <th></th>\n",
              "      <th>MILES*</th>\n",
              "    </tr>\n",
              "  </thead>\n",
              "  <tbody>\n",
              "    <tr>\n",
              "      <th>count</th>\n",
              "      <td>1155.000000</td>\n",
              "    </tr>\n",
              "    <tr>\n",
              "      <th>mean</th>\n",
              "      <td>10.566840</td>\n",
              "    </tr>\n",
              "    <tr>\n",
              "      <th>std</th>\n",
              "      <td>21.579106</td>\n",
              "    </tr>\n",
              "    <tr>\n",
              "      <th>min</th>\n",
              "      <td>0.500000</td>\n",
              "    </tr>\n",
              "    <tr>\n",
              "      <th>25%</th>\n",
              "      <td>2.900000</td>\n",
              "    </tr>\n",
              "    <tr>\n",
              "      <th>50%</th>\n",
              "      <td>6.000000</td>\n",
              "    </tr>\n",
              "    <tr>\n",
              "      <th>75%</th>\n",
              "      <td>10.400000</td>\n",
              "    </tr>\n",
              "    <tr>\n",
              "      <th>max</th>\n",
              "      <td>310.300000</td>\n",
              "    </tr>\n",
              "  </tbody>\n",
              "</table>\n",
              "</div>\n",
              "      <button class=\"colab-df-convert\" onclick=\"convertToInteractive('df-32367fb4-8b15-40a2-954d-d312cade5a29')\"\n",
              "              title=\"Convert this dataframe to an interactive table.\"\n",
              "              style=\"display:none;\">\n",
              "        \n",
              "  <svg xmlns=\"http://www.w3.org/2000/svg\" height=\"24px\"viewBox=\"0 0 24 24\"\n",
              "       width=\"24px\">\n",
              "    <path d=\"M0 0h24v24H0V0z\" fill=\"none\"/>\n",
              "    <path d=\"M18.56 5.44l.94 2.06.94-2.06 2.06-.94-2.06-.94-.94-2.06-.94 2.06-2.06.94zm-11 1L8.5 8.5l.94-2.06 2.06-.94-2.06-.94L8.5 2.5l-.94 2.06-2.06.94zm10 10l.94 2.06.94-2.06 2.06-.94-2.06-.94-.94-2.06-.94 2.06-2.06.94z\"/><path d=\"M17.41 7.96l-1.37-1.37c-.4-.4-.92-.59-1.43-.59-.52 0-1.04.2-1.43.59L10.3 9.45l-7.72 7.72c-.78.78-.78 2.05 0 2.83L4 21.41c.39.39.9.59 1.41.59.51 0 1.02-.2 1.41-.59l7.78-7.78 2.81-2.81c.8-.78.8-2.07 0-2.86zM5.41 20L4 18.59l7.72-7.72 1.47 1.35L5.41 20z\"/>\n",
              "  </svg>\n",
              "      </button>\n",
              "      \n",
              "  <style>\n",
              "    .colab-df-container {\n",
              "      display:flex;\n",
              "      flex-wrap:wrap;\n",
              "      gap: 12px;\n",
              "    }\n",
              "\n",
              "    .colab-df-convert {\n",
              "      background-color: #E8F0FE;\n",
              "      border: none;\n",
              "      border-radius: 50%;\n",
              "      cursor: pointer;\n",
              "      display: none;\n",
              "      fill: #1967D2;\n",
              "      height: 32px;\n",
              "      padding: 0 0 0 0;\n",
              "      width: 32px;\n",
              "    }\n",
              "\n",
              "    .colab-df-convert:hover {\n",
              "      background-color: #E2EBFA;\n",
              "      box-shadow: 0px 1px 2px rgba(60, 64, 67, 0.3), 0px 1px 3px 1px rgba(60, 64, 67, 0.15);\n",
              "      fill: #174EA6;\n",
              "    }\n",
              "\n",
              "    [theme=dark] .colab-df-convert {\n",
              "      background-color: #3B4455;\n",
              "      fill: #D2E3FC;\n",
              "    }\n",
              "\n",
              "    [theme=dark] .colab-df-convert:hover {\n",
              "      background-color: #434B5C;\n",
              "      box-shadow: 0px 1px 3px 1px rgba(0, 0, 0, 0.15);\n",
              "      filter: drop-shadow(0px 1px 2px rgba(0, 0, 0, 0.3));\n",
              "      fill: #FFFFFF;\n",
              "    }\n",
              "  </style>\n",
              "\n",
              "      <script>\n",
              "        const buttonEl =\n",
              "          document.querySelector('#df-32367fb4-8b15-40a2-954d-d312cade5a29 button.colab-df-convert');\n",
              "        buttonEl.style.display =\n",
              "          google.colab.kernel.accessAllowed ? 'block' : 'none';\n",
              "\n",
              "        async function convertToInteractive(key) {\n",
              "          const element = document.querySelector('#df-32367fb4-8b15-40a2-954d-d312cade5a29');\n",
              "          const dataTable =\n",
              "            await google.colab.kernel.invokeFunction('convertToInteractive',\n",
              "                                                     [key], {});\n",
              "          if (!dataTable) return;\n",
              "\n",
              "          const docLinkHtml = 'Like what you see? Visit the ' +\n",
              "            '<a target=\"_blank\" href=https://colab.research.google.com/notebooks/data_table.ipynb>data table notebook</a>'\n",
              "            + ' to learn more about interactive tables.';\n",
              "          element.innerHTML = '';\n",
              "          dataTable['output_type'] = 'display_data';\n",
              "          await google.colab.output.renderOutput(dataTable, element);\n",
              "          const docLink = document.createElement('div');\n",
              "          docLink.innerHTML = docLinkHtml;\n",
              "          element.appendChild(docLink);\n",
              "        }\n",
              "      </script>\n",
              "    </div>\n",
              "  </div>\n",
              "  "
            ]
          },
          "metadata": {},
          "execution_count": 25
        }
      ],
      "source": [
        "data.describe()"
      ]
    },
    {
      "cell_type": "markdown",
      "metadata": {
        "id": "8PmU-86n198v"
      },
      "source": [
        "\n",
        "\n",
        "## Q9. Drop the missing values and store the data in a new dataframe (name it\"df\") (2-points)\n",
        "\n",
        "### Note: Dataframe \"df\" will not contain any missing value"
      ]
    },
    {
      "cell_type": "code",
      "execution_count": null,
      "metadata": {
        "colab": {
          "base_uri": "https://localhost:8080/"
        },
        "id": "3xZC0dvq198w",
        "outputId": "73b9b271-9477-4ae2-c23d-1f48dbbdc79a"
      },
      "outputs": [
        {
          "output_type": "execute_result",
          "data": {
            "text/plain": [
              "START_DATE*    False\n",
              "END_DATE*      False\n",
              "CATEGORY*      False\n",
              "START*         False\n",
              "STOP*          False\n",
              "MILES*         False\n",
              "PURPOSE*       False\n",
              "dtype: bool"
            ]
          },
          "metadata": {},
          "execution_count": 29
        }
      ],
      "source": [
        "df = data.dropna()\n",
        "df.isnull().any()"
      ]
    },
    {
      "cell_type": "markdown",
      "metadata": {
        "id": "2vIFI9G61983"
      },
      "source": [
        "## Q10. Check the information of the dataframe(df). (2 points)"
      ]
    },
    {
      "cell_type": "code",
      "execution_count": null,
      "metadata": {
        "colab": {
          "base_uri": "https://localhost:8080/"
        },
        "id": "DrmfQwDc1983",
        "outputId": "5f90c9be-a7fb-45d2-bf81-3f51237c6f79"
      },
      "outputs": [
        {
          "output_type": "stream",
          "name": "stdout",
          "text": [
            "<class 'pandas.core.frame.DataFrame'>\n",
            "Int64Index: 653 entries, 0 to 1154\n",
            "Data columns (total 7 columns):\n",
            " #   Column       Non-Null Count  Dtype  \n",
            "---  ------       --------------  -----  \n",
            " 0   START_DATE*  653 non-null    object \n",
            " 1   END_DATE*    653 non-null    object \n",
            " 2   CATEGORY*    653 non-null    object \n",
            " 3   START*       653 non-null    object \n",
            " 4   STOP*        653 non-null    object \n",
            " 5   MILES*       653 non-null    float64\n",
            " 6   PURPOSE*     653 non-null    object \n",
            "dtypes: float64(1), object(6)\n",
            "memory usage: 40.8+ KB\n"
          ]
        }
      ],
      "source": [
        "df.info()"
      ]
    },
    {
      "cell_type": "markdown",
      "metadata": {
        "id": "Pqm4jhgT1986"
      },
      "source": [
        "## Q11. Get the unique start destinations. (3 points)\n",
        "### Note: This question is based on the dataframe with no 'NA' values\n",
        "### Hint- You need to print the unique destination place names in this and not the count."
      ]
    },
    {
      "cell_type": "code",
      "execution_count": null,
      "metadata": {
        "colab": {
          "base_uri": "https://localhost:8080/"
        },
        "id": "jsuoItZX1987",
        "outputId": "9f548be6-5b75-4f24-be12-744d9098b62b"
      },
      "outputs": [
        {
          "output_type": "execute_result",
          "data": {
            "text/plain": [
              "['Fort Pierce',\n",
              " 'West Palm Beach',\n",
              " 'Palm Beach',\n",
              " 'Cary',\n",
              " 'Morrisville',\n",
              " 'New York',\n",
              " 'Queens',\n",
              " 'East Harlem',\n",
              " 'NoMad',\n",
              " 'Midtown',\n",
              " 'Midtown East',\n",
              " 'Hudson Square',\n",
              " 'Lower Manhattan',\n",
              " \"Hell's Kitchen\",\n",
              " 'Queens County',\n",
              " 'Gulfton',\n",
              " 'Downtown',\n",
              " 'Houston',\n",
              " 'Jamestown Court',\n",
              " 'Durham',\n",
              " 'Whitebridge',\n",
              " 'Raleigh',\n",
              " 'Umstead',\n",
              " 'Hazelwood',\n",
              " 'Westpark Place',\n",
              " 'Meredith Townes',\n",
              " 'Leesville Hollow',\n",
              " 'Apex',\n",
              " 'Chapel Hill',\n",
              " 'Williamsburg Manor',\n",
              " 'Macgregor Downs',\n",
              " 'Edgehill Farms',\n",
              " 'Walnut Terrace',\n",
              " 'Midtown West',\n",
              " 'Long Island City',\n",
              " 'Jamaica',\n",
              " 'Unknown Location',\n",
              " 'Colombo',\n",
              " 'Nugegoda',\n",
              " 'Katunayaka',\n",
              " 'Islamabad',\n",
              " 'R?walpindi',\n",
              " 'Noorpur Shahan',\n",
              " 'Heritage Pines',\n",
              " 'Tanglewood',\n",
              " 'Waverly Place',\n",
              " 'Wayne Ridge',\n",
              " 'Northwoods',\n",
              " 'Depot Historic District',\n",
              " 'West University',\n",
              " 'Congress Ave District',\n",
              " 'Convention Center District',\n",
              " 'North Austin',\n",
              " 'The Drag',\n",
              " 'Coxville',\n",
              " 'South Congress',\n",
              " 'Katy',\n",
              " 'Alief',\n",
              " 'Sharpstown',\n",
              " 'Sugar Land',\n",
              " 'Galveston',\n",
              " 'Port Bolivar',\n",
              " 'Washington Avenue',\n",
              " 'Greater Greenspoint',\n",
              " 'Latta',\n",
              " 'Jacksonville',\n",
              " 'Kissimmee',\n",
              " 'Lake Reams',\n",
              " 'Orlando',\n",
              " 'Daytona Beach',\n",
              " 'Ridgeland',\n",
              " 'Florence',\n",
              " 'Cedar Hill',\n",
              " 'Holly Springs',\n",
              " 'Harden Place',\n",
              " 'Chessington',\n",
              " 'Burtrose',\n",
              " 'Parkway',\n",
              " 'Capitol One',\n",
              " 'University District',\n",
              " 'Redmond',\n",
              " 'Bellevue',\n",
              " 'Seattle',\n",
              " 'Mcvan',\n",
              " 'Palo Alto',\n",
              " 'Sunnyvale',\n",
              " 'Newark',\n",
              " 'Menlo Park',\n",
              " 'San Francisco',\n",
              " 'Preston',\n",
              " 'Parkway Museums',\n",
              " 'Hog Island',\n",
              " 'Savon Height',\n",
              " 'Kildaire Farms',\n",
              " 'Weston',\n",
              " 'Gramercy-Flatiron',\n",
              " 'Tudor City',\n",
              " 'Soho',\n",
              " 'Tribeca',\n",
              " 'Financial District',\n",
              " 'Kips Bay',\n",
              " 'Emeryville',\n",
              " 'Berkeley',\n",
              " 'Oakland',\n",
              " 'Bay Farm Island',\n",
              " 'New Orleans',\n",
              " 'Lower Garden District',\n",
              " 'Lakeview',\n",
              " 'Faubourg Marigny',\n",
              " 'Chalmette',\n",
              " 'Arabi',\n",
              " 'Metairie',\n",
              " 'Pontchartrain Shores',\n",
              " 'Kenner',\n",
              " 'Summerwinds',\n",
              " 'Parkwood',\n",
              " 'Banner Elk',\n",
              " 'Boone',\n",
              " 'Stonewater',\n",
              " 'Lexington Park at Amberly',\n",
              " 'Winston Salem',\n",
              " 'Asheville',\n",
              " 'Topton',\n",
              " 'Hayesville',\n",
              " 'Agnew',\n",
              " 'Potrero Flats',\n",
              " 'South',\n",
              " 'Southside',\n",
              " 'Mountain View',\n",
              " 'El Cerrito',\n",
              " 'Wake Co.',\n",
              " 'Fuquay-Varina',\n",
              " 'Rawalpindi',\n",
              " 'Lahore',\n",
              " 'Karachi',\n",
              " 'Gampaha',\n",
              " 'Ilukwatta']"
            ]
          },
          "metadata": {},
          "execution_count": 40
        }
      ],
      "source": [
        "a = list(df['STOP*'].unique())\n",
        "a"
      ]
    },
    {
      "cell_type": "markdown",
      "metadata": {
        "id": "s3s-pY1R198_"
      },
      "source": [
        "## Q12. What is the total number of unique start destinations? (3 points)\n",
        "### Note: Use the original dataframe without dropping 'NA' values"
      ]
    },
    {
      "cell_type": "code",
      "execution_count": null,
      "metadata": {
        "colab": {
          "base_uri": "https://localhost:8080/"
        },
        "id": "OOZy88AA199A",
        "outputId": "0e0a9e0d-113b-44da-ffd3-7da269c8d647"
      },
      "outputs": [
        {
          "output_type": "execute_result",
          "data": {
            "text/plain": [
              "176"
            ]
          },
          "metadata": {},
          "execution_count": 43
        }
      ],
      "source": [
        "b = len(data['START*'].unique())\n",
        "b"
      ]
    },
    {
      "cell_type": "markdown",
      "metadata": {
        "id": "LuKFv1_P199D"
      },
      "source": [
        "## Q13. Print the total number of unique stop destinations. (3 points)\n",
        "### Note: Use the original dataframe without dropping 'NA' values."
      ]
    },
    {
      "cell_type": "code",
      "execution_count": null,
      "metadata": {
        "colab": {
          "base_uri": "https://localhost:8080/"
        },
        "id": "5YeWcpZT199E",
        "outputId": "7ceb76eb-1c9a-4e13-f196-4e21d19d1c84"
      },
      "outputs": [
        {
          "output_type": "execute_result",
          "data": {
            "text/plain": [
              "187"
            ]
          },
          "metadata": {},
          "execution_count": 63
        }
      ],
      "source": [
        "len(data['STOP*'].unique())"
      ]
    },
    {
      "cell_type": "markdown",
      "metadata": {
        "id": "VmkTnPlt199H"
      },
      "source": [
        "## Q14. Print all the Uber trips that has the starting point of San Francisco. (3 points)\n",
        "### Note: Use the original dataframe without dropping the 'NA' values.\n",
        "\n",
        "### Hint: Use the loc function"
      ]
    },
    {
      "cell_type": "code",
      "execution_count": null,
      "metadata": {
        "colab": {
          "base_uri": "https://localhost:8080/",
          "height": 300
        },
        "id": "fwhKZQfs199I",
        "outputId": "eae57dd2-f8d9-4e93-a76c-db151bca83fb"
      },
      "outputs": [
        {
          "output_type": "execute_result",
          "data": {
            "text/plain": [
              "          START_DATE*         END_DATE* CATEGORY*         START*       STOP*  \\\n",
              "362  05-09-2016 14:39  05-09-2016 15:06  Business  San Francisco   Palo Alto   \n",
              "440   6/14/2016 16:09   6/14/2016 16:39  Business  San Francisco  Emeryville   \n",
              "836  10/19/2016 14:02  10/19/2016 14:31  Business  San Francisco    Berkeley   \n",
              "917  11-07-2016 19:17  11-07-2016 19:57  Business  San Francisco    Berkeley   \n",
              "919  11-08-2016 12:16  11-08-2016 12:49  Business  San Francisco    Berkeley   \n",
              "927  11-09-2016 18:40  11-09-2016 19:17  Business  San Francisco     Oakland   \n",
              "933  11-10-2016 15:17  11-10-2016 15:22  Business  San Francisco     Oakland   \n",
              "966  11/15/2016 20:44  11/15/2016 21:00  Business  San Francisco    Berkeley   \n",
              "\n",
              "     MILES*         PURPOSE*  \n",
              "362    20.5  Between Offices  \n",
              "440    11.6          Meeting  \n",
              "836    10.8              NaN  \n",
              "917    13.2  Between Offices  \n",
              "919    11.3          Meeting  \n",
              "927    12.7   Customer Visit  \n",
              "933     9.9   Temporary Site  \n",
              "966    11.8   Temporary Site  "
            ],
            "text/html": [
              "\n",
              "  <div id=\"df-c0c1757c-c172-4573-8cde-4782469820c8\">\n",
              "    <div class=\"colab-df-container\">\n",
              "      <div>\n",
              "<style scoped>\n",
              "    .dataframe tbody tr th:only-of-type {\n",
              "        vertical-align: middle;\n",
              "    }\n",
              "\n",
              "    .dataframe tbody tr th {\n",
              "        vertical-align: top;\n",
              "    }\n",
              "\n",
              "    .dataframe thead th {\n",
              "        text-align: right;\n",
              "    }\n",
              "</style>\n",
              "<table border=\"1\" class=\"dataframe\">\n",
              "  <thead>\n",
              "    <tr style=\"text-align: right;\">\n",
              "      <th></th>\n",
              "      <th>START_DATE*</th>\n",
              "      <th>END_DATE*</th>\n",
              "      <th>CATEGORY*</th>\n",
              "      <th>START*</th>\n",
              "      <th>STOP*</th>\n",
              "      <th>MILES*</th>\n",
              "      <th>PURPOSE*</th>\n",
              "    </tr>\n",
              "  </thead>\n",
              "  <tbody>\n",
              "    <tr>\n",
              "      <th>362</th>\n",
              "      <td>05-09-2016 14:39</td>\n",
              "      <td>05-09-2016 15:06</td>\n",
              "      <td>Business</td>\n",
              "      <td>San Francisco</td>\n",
              "      <td>Palo Alto</td>\n",
              "      <td>20.5</td>\n",
              "      <td>Between Offices</td>\n",
              "    </tr>\n",
              "    <tr>\n",
              "      <th>440</th>\n",
              "      <td>6/14/2016 16:09</td>\n",
              "      <td>6/14/2016 16:39</td>\n",
              "      <td>Business</td>\n",
              "      <td>San Francisco</td>\n",
              "      <td>Emeryville</td>\n",
              "      <td>11.6</td>\n",
              "      <td>Meeting</td>\n",
              "    </tr>\n",
              "    <tr>\n",
              "      <th>836</th>\n",
              "      <td>10/19/2016 14:02</td>\n",
              "      <td>10/19/2016 14:31</td>\n",
              "      <td>Business</td>\n",
              "      <td>San Francisco</td>\n",
              "      <td>Berkeley</td>\n",
              "      <td>10.8</td>\n",
              "      <td>NaN</td>\n",
              "    </tr>\n",
              "    <tr>\n",
              "      <th>917</th>\n",
              "      <td>11-07-2016 19:17</td>\n",
              "      <td>11-07-2016 19:57</td>\n",
              "      <td>Business</td>\n",
              "      <td>San Francisco</td>\n",
              "      <td>Berkeley</td>\n",
              "      <td>13.2</td>\n",
              "      <td>Between Offices</td>\n",
              "    </tr>\n",
              "    <tr>\n",
              "      <th>919</th>\n",
              "      <td>11-08-2016 12:16</td>\n",
              "      <td>11-08-2016 12:49</td>\n",
              "      <td>Business</td>\n",
              "      <td>San Francisco</td>\n",
              "      <td>Berkeley</td>\n",
              "      <td>11.3</td>\n",
              "      <td>Meeting</td>\n",
              "    </tr>\n",
              "    <tr>\n",
              "      <th>927</th>\n",
              "      <td>11-09-2016 18:40</td>\n",
              "      <td>11-09-2016 19:17</td>\n",
              "      <td>Business</td>\n",
              "      <td>San Francisco</td>\n",
              "      <td>Oakland</td>\n",
              "      <td>12.7</td>\n",
              "      <td>Customer Visit</td>\n",
              "    </tr>\n",
              "    <tr>\n",
              "      <th>933</th>\n",
              "      <td>11-10-2016 15:17</td>\n",
              "      <td>11-10-2016 15:22</td>\n",
              "      <td>Business</td>\n",
              "      <td>San Francisco</td>\n",
              "      <td>Oakland</td>\n",
              "      <td>9.9</td>\n",
              "      <td>Temporary Site</td>\n",
              "    </tr>\n",
              "    <tr>\n",
              "      <th>966</th>\n",
              "      <td>11/15/2016 20:44</td>\n",
              "      <td>11/15/2016 21:00</td>\n",
              "      <td>Business</td>\n",
              "      <td>San Francisco</td>\n",
              "      <td>Berkeley</td>\n",
              "      <td>11.8</td>\n",
              "      <td>Temporary Site</td>\n",
              "    </tr>\n",
              "  </tbody>\n",
              "</table>\n",
              "</div>\n",
              "      <button class=\"colab-df-convert\" onclick=\"convertToInteractive('df-c0c1757c-c172-4573-8cde-4782469820c8')\"\n",
              "              title=\"Convert this dataframe to an interactive table.\"\n",
              "              style=\"display:none;\">\n",
              "        \n",
              "  <svg xmlns=\"http://www.w3.org/2000/svg\" height=\"24px\"viewBox=\"0 0 24 24\"\n",
              "       width=\"24px\">\n",
              "    <path d=\"M0 0h24v24H0V0z\" fill=\"none\"/>\n",
              "    <path d=\"M18.56 5.44l.94 2.06.94-2.06 2.06-.94-2.06-.94-.94-2.06-.94 2.06-2.06.94zm-11 1L8.5 8.5l.94-2.06 2.06-.94-2.06-.94L8.5 2.5l-.94 2.06-2.06.94zm10 10l.94 2.06.94-2.06 2.06-.94-2.06-.94-.94-2.06-.94 2.06-2.06.94z\"/><path d=\"M17.41 7.96l-1.37-1.37c-.4-.4-.92-.59-1.43-.59-.52 0-1.04.2-1.43.59L10.3 9.45l-7.72 7.72c-.78.78-.78 2.05 0 2.83L4 21.41c.39.39.9.59 1.41.59.51 0 1.02-.2 1.41-.59l7.78-7.78 2.81-2.81c.8-.78.8-2.07 0-2.86zM5.41 20L4 18.59l7.72-7.72 1.47 1.35L5.41 20z\"/>\n",
              "  </svg>\n",
              "      </button>\n",
              "      \n",
              "  <style>\n",
              "    .colab-df-container {\n",
              "      display:flex;\n",
              "      flex-wrap:wrap;\n",
              "      gap: 12px;\n",
              "    }\n",
              "\n",
              "    .colab-df-convert {\n",
              "      background-color: #E8F0FE;\n",
              "      border: none;\n",
              "      border-radius: 50%;\n",
              "      cursor: pointer;\n",
              "      display: none;\n",
              "      fill: #1967D2;\n",
              "      height: 32px;\n",
              "      padding: 0 0 0 0;\n",
              "      width: 32px;\n",
              "    }\n",
              "\n",
              "    .colab-df-convert:hover {\n",
              "      background-color: #E2EBFA;\n",
              "      box-shadow: 0px 1px 2px rgba(60, 64, 67, 0.3), 0px 1px 3px 1px rgba(60, 64, 67, 0.15);\n",
              "      fill: #174EA6;\n",
              "    }\n",
              "\n",
              "    [theme=dark] .colab-df-convert {\n",
              "      background-color: #3B4455;\n",
              "      fill: #D2E3FC;\n",
              "    }\n",
              "\n",
              "    [theme=dark] .colab-df-convert:hover {\n",
              "      background-color: #434B5C;\n",
              "      box-shadow: 0px 1px 3px 1px rgba(0, 0, 0, 0.15);\n",
              "      filter: drop-shadow(0px 1px 2px rgba(0, 0, 0, 0.3));\n",
              "      fill: #FFFFFF;\n",
              "    }\n",
              "  </style>\n",
              "\n",
              "      <script>\n",
              "        const buttonEl =\n",
              "          document.querySelector('#df-c0c1757c-c172-4573-8cde-4782469820c8 button.colab-df-convert');\n",
              "        buttonEl.style.display =\n",
              "          google.colab.kernel.accessAllowed ? 'block' : 'none';\n",
              "\n",
              "        async function convertToInteractive(key) {\n",
              "          const element = document.querySelector('#df-c0c1757c-c172-4573-8cde-4782469820c8');\n",
              "          const dataTable =\n",
              "            await google.colab.kernel.invokeFunction('convertToInteractive',\n",
              "                                                     [key], {});\n",
              "          if (!dataTable) return;\n",
              "\n",
              "          const docLinkHtml = 'Like what you see? Visit the ' +\n",
              "            '<a target=\"_blank\" href=https://colab.research.google.com/notebooks/data_table.ipynb>data table notebook</a>'\n",
              "            + ' to learn more about interactive tables.';\n",
              "          element.innerHTML = '';\n",
              "          dataTable['output_type'] = 'display_data';\n",
              "          await google.colab.output.renderOutput(dataTable, element);\n",
              "          const docLink = document.createElement('div');\n",
              "          docLink.innerHTML = docLinkHtml;\n",
              "          element.appendChild(docLink);\n",
              "        }\n",
              "      </script>\n",
              "    </div>\n",
              "  </div>\n",
              "  "
            ]
          },
          "metadata": {},
          "execution_count": 45
        }
      ],
      "source": [
        "data[data['START*'] == 'San Francisco']"
      ]
    },
    {
      "cell_type": "markdown",
      "metadata": {
        "id": "ZMsuzJcG199O"
      },
      "source": [
        "## Q15. What is the most popular starting point for the Uber drivers? (3 points)\n",
        "### Note: Use the original dataframe without dropping the 'NA' values.\n",
        "\n",
        "### Hint:Popular means the place that is visited the most"
      ]
    },
    {
      "cell_type": "code",
      "execution_count": null,
      "metadata": {
        "colab": {
          "base_uri": "https://localhost:8080/"
        },
        "id": "a5QGyjza199P",
        "outputId": "67cf6f89-a4ee-4e41-b462-2249e7483f2c"
      },
      "outputs": [
        {
          "output_type": "execute_result",
          "data": {
            "text/plain": [
              "Cary                 201\n",
              "Unknown Location     148\n",
              "Morrisville           85\n",
              "Whitebridge           68\n",
              "Islamabad             57\n",
              "                    ... \n",
              "Ridgeland              1\n",
              "Daytona Beach          1\n",
              "Sky Lake               1\n",
              "Sand Lake Commons      1\n",
              "Gampaha                1\n",
              "Name: START*, Length: 176, dtype: int64"
            ]
          },
          "metadata": {},
          "execution_count": 46
        }
      ],
      "source": [
        "data['START*'].value_counts()"
      ]
    },
    {
      "cell_type": "markdown",
      "metadata": {
        "id": "S13-HiPG199T"
      },
      "source": [
        "## Q16. What is the most popular dropping point for the Uber drivers? (3 points)\n",
        "### Note: Use the original dataframe without dropping the 'NA' values.\n",
        "\n",
        "### Hint: Popular means the place that is visited the most"
      ]
    },
    {
      "cell_type": "code",
      "execution_count": null,
      "metadata": {
        "colab": {
          "base_uri": "https://localhost:8080/"
        },
        "id": "YP-hwvNT199T",
        "outputId": "b7123d98-04f6-4429-890a-504530cee0fc"
      },
      "outputs": [
        {
          "output_type": "execute_result",
          "data": {
            "text/plain": [
              "Cary                 203\n",
              "Unknown Location     149\n",
              "Morrisville           84\n",
              "Whitebridge           65\n",
              "Islamabad             58\n",
              "                    ... \n",
              "Daytona Beach          1\n",
              "Sand Lake Commons      1\n",
              "Sky Lake               1\n",
              "Vista East             1\n",
              "Ilukwatta              1\n",
              "Name: STOP*, Length: 187, dtype: int64"
            ]
          },
          "metadata": {},
          "execution_count": 47
        }
      ],
      "source": [
        "data['STOP*'].value_counts()"
      ]
    },
    {
      "cell_type": "markdown",
      "metadata": {
        "id": "6Iqizk7B199W"
      },
      "source": [
        "## Q17. List the most frequent route taken by Uber drivers. (3 points)\n",
        "### Note: This question is based on the new dataframe with no 'na' values.\n",
        "### Hint-Print the most frequent route taken by Uber drivers (Route= combination of START & END points present in the Data set)."
      ]
    },
    {
      "cell_type": "code",
      "execution_count": null,
      "metadata": {
        "colab": {
          "base_uri": "https://localhost:8080/"
        },
        "id": "f41v9gc4199X",
        "outputId": "80ac8372-eec6-4daf-ba3b-7747c7d1533a"
      },
      "outputs": [
        {
          "output_type": "execute_result",
          "data": {
            "text/plain": [
              "START*            STOP*           \n",
              "Cary              Morrisville         52\n",
              "Morrisville       Cary                51\n",
              "Cary              Cary                44\n",
              "Unknown Location  Unknown Location    30\n",
              "Cary              Durham              30\n",
              "                                      ..\n",
              "Katunayaka        Katunayaka           1\n",
              "                  Unknown Location     1\n",
              "Katunayake        Gampaha              1\n",
              "Katy              Houston              1\n",
              "Winston Salem     Asheville            1\n",
              "Length: 239, dtype: int64"
            ]
          },
          "metadata": {},
          "execution_count": 65
        }
      ],
      "source": [
        "df.groupby(['START*','STOP*']).size().sort_values(ascending = False)"
      ]
    },
    {
      "cell_type": "markdown",
      "metadata": {
        "id": "oBrYyZ-L199Z"
      },
      "source": [
        "## Q18. Print all types of purposes for the trip in an array. (3 points)\n",
        "### Note: This question is based on the new dataframe with no 'NA' values."
      ]
    },
    {
      "cell_type": "code",
      "execution_count": null,
      "metadata": {
        "colab": {
          "base_uri": "https://localhost:8080/"
        },
        "id": "p3fe_lTe199a",
        "outputId": "69499e83-82fe-4e4b-814c-9a6394327704"
      },
      "outputs": [
        {
          "output_type": "execute_result",
          "data": {
            "text/plain": [
              "array(['Meal/Entertain', nan, 'Errand/Supplies', 'Meeting',\n",
              "       'Customer Visit', 'Temporary Site', 'Between Offices',\n",
              "       'Charity ($)', 'Commute', 'Moving', 'Airport/Travel'], dtype=object)"
            ]
          },
          "metadata": {},
          "execution_count": 66
        }
      ],
      "source": [
        "np.array(data['PURPOSE*'].unique())"
      ]
    },
    {
      "cell_type": "markdown",
      "metadata": {
        "id": "WBN9Ufxc199d"
      },
      "source": [
        "## Q19. Plot a bar graph of Purpose vs Miles(Distance). (3 points)\n",
        "### Note: Use the original dataframe without dropping the 'NA' values.\n",
        "### Hint:You have to plot total/sum miles per purpose"
      ]
    },
    {
      "cell_type": "code",
      "execution_count": null,
      "metadata": {
        "colab": {
          "base_uri": "https://localhost:8080/",
          "height": 542
        },
        "id": "JaNSQ_qSa-Rg",
        "outputId": "484ea8b5-c19e-400c-9aa2-cb858769df6f"
      },
      "outputs": [
        {
          "output_type": "display_data",
          "data": {
            "text/html": [
              "<html>\n",
              "<head><meta charset=\"utf-8\" /></head>\n",
              "<body>\n",
              "    <div>            <script src=\"https://cdnjs.cloudflare.com/ajax/libs/mathjax/2.7.5/MathJax.js?config=TeX-AMS-MML_SVG\"></script><script type=\"text/javascript\">if (window.MathJax) {MathJax.Hub.Config({SVG: {font: \"STIX-Web\"}});}</script>                <script type=\"text/javascript\">window.PlotlyConfig = {MathJaxConfig: 'local'};</script>\n",
              "        <script src=\"https://cdn.plot.ly/plotly-2.8.3.min.js\"></script>                <div id=\"b476b6f1-e446-4e17-b39b-8d218578b655\" class=\"plotly-graph-div\" style=\"height:525px; width:100%;\"></div>            <script type=\"text/javascript\">                                    window.PLOTLYENV=window.PLOTLYENV || {};                                    if (document.getElementById(\"b476b6f1-e446-4e17-b39b-8d218578b655\")) {                    Plotly.newPlot(                        \"b476b6f1-e446-4e17-b39b-8d218578b655\",                        [{\"alignmentgroup\":\"True\",\"hovertemplate\":\"variable=MILES*<br>PURPOSE*=%{x}<br>value=%{y}<extra></extra>\",\"legendgroup\":\"MILES*\",\"marker\":{\"color\":\"#636efa\",\"pattern\":{\"shape\":\"\"}},\"name\":\"MILES*\",\"offsetgroup\":\"MILES*\",\"orientation\":\"v\",\"showlegend\":true,\"textposition\":\"auto\",\"x\":[\"Meeting\",\"Customer Visit\",\"Meal/Entertain\",\"Temporary Site\",\"Errand/Supplies\",\"Between Offices\",\"Commute\",\"Moving\",\"Airport/Travel\",\"Charity ($)\"],\"xaxis\":\"x\",\"y\":[2851.3,2089.5,911.7,523.7,508.0,197.0,180.2,18.2,16.5,15.1],\"yaxis\":\"y\",\"type\":\"bar\"}],                        {\"template\":{\"data\":{\"bar\":[{\"error_x\":{\"color\":\"#2a3f5f\"},\"error_y\":{\"color\":\"#2a3f5f\"},\"marker\":{\"line\":{\"color\":\"#E5ECF6\",\"width\":0.5},\"pattern\":{\"fillmode\":\"overlay\",\"size\":10,\"solidity\":0.2}},\"type\":\"bar\"}],\"barpolar\":[{\"marker\":{\"line\":{\"color\":\"#E5ECF6\",\"width\":0.5},\"pattern\":{\"fillmode\":\"overlay\",\"size\":10,\"solidity\":0.2}},\"type\":\"barpolar\"}],\"carpet\":[{\"aaxis\":{\"endlinecolor\":\"#2a3f5f\",\"gridcolor\":\"white\",\"linecolor\":\"white\",\"minorgridcolor\":\"white\",\"startlinecolor\":\"#2a3f5f\"},\"baxis\":{\"endlinecolor\":\"#2a3f5f\",\"gridcolor\":\"white\",\"linecolor\":\"white\",\"minorgridcolor\":\"white\",\"startlinecolor\":\"#2a3f5f\"},\"type\":\"carpet\"}],\"choropleth\":[{\"colorbar\":{\"outlinewidth\":0,\"ticks\":\"\"},\"type\":\"choropleth\"}],\"contour\":[{\"colorbar\":{\"outlinewidth\":0,\"ticks\":\"\"},\"colorscale\":[[0.0,\"#0d0887\"],[0.1111111111111111,\"#46039f\"],[0.2222222222222222,\"#7201a8\"],[0.3333333333333333,\"#9c179e\"],[0.4444444444444444,\"#bd3786\"],[0.5555555555555556,\"#d8576b\"],[0.6666666666666666,\"#ed7953\"],[0.7777777777777778,\"#fb9f3a\"],[0.8888888888888888,\"#fdca26\"],[1.0,\"#f0f921\"]],\"type\":\"contour\"}],\"contourcarpet\":[{\"colorbar\":{\"outlinewidth\":0,\"ticks\":\"\"},\"type\":\"contourcarpet\"}],\"heatmap\":[{\"colorbar\":{\"outlinewidth\":0,\"ticks\":\"\"},\"colorscale\":[[0.0,\"#0d0887\"],[0.1111111111111111,\"#46039f\"],[0.2222222222222222,\"#7201a8\"],[0.3333333333333333,\"#9c179e\"],[0.4444444444444444,\"#bd3786\"],[0.5555555555555556,\"#d8576b\"],[0.6666666666666666,\"#ed7953\"],[0.7777777777777778,\"#fb9f3a\"],[0.8888888888888888,\"#fdca26\"],[1.0,\"#f0f921\"]],\"type\":\"heatmap\"}],\"heatmapgl\":[{\"colorbar\":{\"outlinewidth\":0,\"ticks\":\"\"},\"colorscale\":[[0.0,\"#0d0887\"],[0.1111111111111111,\"#46039f\"],[0.2222222222222222,\"#7201a8\"],[0.3333333333333333,\"#9c179e\"],[0.4444444444444444,\"#bd3786\"],[0.5555555555555556,\"#d8576b\"],[0.6666666666666666,\"#ed7953\"],[0.7777777777777778,\"#fb9f3a\"],[0.8888888888888888,\"#fdca26\"],[1.0,\"#f0f921\"]],\"type\":\"heatmapgl\"}],\"histogram\":[{\"marker\":{\"pattern\":{\"fillmode\":\"overlay\",\"size\":10,\"solidity\":0.2}},\"type\":\"histogram\"}],\"histogram2d\":[{\"colorbar\":{\"outlinewidth\":0,\"ticks\":\"\"},\"colorscale\":[[0.0,\"#0d0887\"],[0.1111111111111111,\"#46039f\"],[0.2222222222222222,\"#7201a8\"],[0.3333333333333333,\"#9c179e\"],[0.4444444444444444,\"#bd3786\"],[0.5555555555555556,\"#d8576b\"],[0.6666666666666666,\"#ed7953\"],[0.7777777777777778,\"#fb9f3a\"],[0.8888888888888888,\"#fdca26\"],[1.0,\"#f0f921\"]],\"type\":\"histogram2d\"}],\"histogram2dcontour\":[{\"colorbar\":{\"outlinewidth\":0,\"ticks\":\"\"},\"colorscale\":[[0.0,\"#0d0887\"],[0.1111111111111111,\"#46039f\"],[0.2222222222222222,\"#7201a8\"],[0.3333333333333333,\"#9c179e\"],[0.4444444444444444,\"#bd3786\"],[0.5555555555555556,\"#d8576b\"],[0.6666666666666666,\"#ed7953\"],[0.7777777777777778,\"#fb9f3a\"],[0.8888888888888888,\"#fdca26\"],[1.0,\"#f0f921\"]],\"type\":\"histogram2dcontour\"}],\"mesh3d\":[{\"colorbar\":{\"outlinewidth\":0,\"ticks\":\"\"},\"type\":\"mesh3d\"}],\"parcoords\":[{\"line\":{\"colorbar\":{\"outlinewidth\":0,\"ticks\":\"\"}},\"type\":\"parcoords\"}],\"pie\":[{\"automargin\":true,\"type\":\"pie\"}],\"scatter\":[{\"marker\":{\"colorbar\":{\"outlinewidth\":0,\"ticks\":\"\"}},\"type\":\"scatter\"}],\"scatter3d\":[{\"line\":{\"colorbar\":{\"outlinewidth\":0,\"ticks\":\"\"}},\"marker\":{\"colorbar\":{\"outlinewidth\":0,\"ticks\":\"\"}},\"type\":\"scatter3d\"}],\"scattercarpet\":[{\"marker\":{\"colorbar\":{\"outlinewidth\":0,\"ticks\":\"\"}},\"type\":\"scattercarpet\"}],\"scattergeo\":[{\"marker\":{\"colorbar\":{\"outlinewidth\":0,\"ticks\":\"\"}},\"type\":\"scattergeo\"}],\"scattergl\":[{\"marker\":{\"colorbar\":{\"outlinewidth\":0,\"ticks\":\"\"}},\"type\":\"scattergl\"}],\"scattermapbox\":[{\"marker\":{\"colorbar\":{\"outlinewidth\":0,\"ticks\":\"\"}},\"type\":\"scattermapbox\"}],\"scatterpolar\":[{\"marker\":{\"colorbar\":{\"outlinewidth\":0,\"ticks\":\"\"}},\"type\":\"scatterpolar\"}],\"scatterpolargl\":[{\"marker\":{\"colorbar\":{\"outlinewidth\":0,\"ticks\":\"\"}},\"type\":\"scatterpolargl\"}],\"scatterternary\":[{\"marker\":{\"colorbar\":{\"outlinewidth\":0,\"ticks\":\"\"}},\"type\":\"scatterternary\"}],\"surface\":[{\"colorbar\":{\"outlinewidth\":0,\"ticks\":\"\"},\"colorscale\":[[0.0,\"#0d0887\"],[0.1111111111111111,\"#46039f\"],[0.2222222222222222,\"#7201a8\"],[0.3333333333333333,\"#9c179e\"],[0.4444444444444444,\"#bd3786\"],[0.5555555555555556,\"#d8576b\"],[0.6666666666666666,\"#ed7953\"],[0.7777777777777778,\"#fb9f3a\"],[0.8888888888888888,\"#fdca26\"],[1.0,\"#f0f921\"]],\"type\":\"surface\"}],\"table\":[{\"cells\":{\"fill\":{\"color\":\"#EBF0F8\"},\"line\":{\"color\":\"white\"}},\"header\":{\"fill\":{\"color\":\"#C8D4E3\"},\"line\":{\"color\":\"white\"}},\"type\":\"table\"}]},\"layout\":{\"annotationdefaults\":{\"arrowcolor\":\"#2a3f5f\",\"arrowhead\":0,\"arrowwidth\":1},\"autotypenumbers\":\"strict\",\"coloraxis\":{\"colorbar\":{\"outlinewidth\":0,\"ticks\":\"\"}},\"colorscale\":{\"diverging\":[[0,\"#8e0152\"],[0.1,\"#c51b7d\"],[0.2,\"#de77ae\"],[0.3,\"#f1b6da\"],[0.4,\"#fde0ef\"],[0.5,\"#f7f7f7\"],[0.6,\"#e6f5d0\"],[0.7,\"#b8e186\"],[0.8,\"#7fbc41\"],[0.9,\"#4d9221\"],[1,\"#276419\"]],\"sequential\":[[0.0,\"#0d0887\"],[0.1111111111111111,\"#46039f\"],[0.2222222222222222,\"#7201a8\"],[0.3333333333333333,\"#9c179e\"],[0.4444444444444444,\"#bd3786\"],[0.5555555555555556,\"#d8576b\"],[0.6666666666666666,\"#ed7953\"],[0.7777777777777778,\"#fb9f3a\"],[0.8888888888888888,\"#fdca26\"],[1.0,\"#f0f921\"]],\"sequentialminus\":[[0.0,\"#0d0887\"],[0.1111111111111111,\"#46039f\"],[0.2222222222222222,\"#7201a8\"],[0.3333333333333333,\"#9c179e\"],[0.4444444444444444,\"#bd3786\"],[0.5555555555555556,\"#d8576b\"],[0.6666666666666666,\"#ed7953\"],[0.7777777777777778,\"#fb9f3a\"],[0.8888888888888888,\"#fdca26\"],[1.0,\"#f0f921\"]]},\"colorway\":[\"#636efa\",\"#EF553B\",\"#00cc96\",\"#ab63fa\",\"#FFA15A\",\"#19d3f3\",\"#FF6692\",\"#B6E880\",\"#FF97FF\",\"#FECB52\"],\"font\":{\"color\":\"#2a3f5f\"},\"geo\":{\"bgcolor\":\"white\",\"lakecolor\":\"white\",\"landcolor\":\"#E5ECF6\",\"showlakes\":true,\"showland\":true,\"subunitcolor\":\"white\"},\"hoverlabel\":{\"align\":\"left\"},\"hovermode\":\"closest\",\"mapbox\":{\"style\":\"light\"},\"paper_bgcolor\":\"white\",\"plot_bgcolor\":\"#E5ECF6\",\"polar\":{\"angularaxis\":{\"gridcolor\":\"white\",\"linecolor\":\"white\",\"ticks\":\"\"},\"bgcolor\":\"#E5ECF6\",\"radialaxis\":{\"gridcolor\":\"white\",\"linecolor\":\"white\",\"ticks\":\"\"}},\"scene\":{\"xaxis\":{\"backgroundcolor\":\"#E5ECF6\",\"gridcolor\":\"white\",\"gridwidth\":2,\"linecolor\":\"white\",\"showbackground\":true,\"ticks\":\"\",\"zerolinecolor\":\"white\"},\"yaxis\":{\"backgroundcolor\":\"#E5ECF6\",\"gridcolor\":\"white\",\"gridwidth\":2,\"linecolor\":\"white\",\"showbackground\":true,\"ticks\":\"\",\"zerolinecolor\":\"white\"},\"zaxis\":{\"backgroundcolor\":\"#E5ECF6\",\"gridcolor\":\"white\",\"gridwidth\":2,\"linecolor\":\"white\",\"showbackground\":true,\"ticks\":\"\",\"zerolinecolor\":\"white\"}},\"shapedefaults\":{\"line\":{\"color\":\"#2a3f5f\"}},\"ternary\":{\"aaxis\":{\"gridcolor\":\"white\",\"linecolor\":\"white\",\"ticks\":\"\"},\"baxis\":{\"gridcolor\":\"white\",\"linecolor\":\"white\",\"ticks\":\"\"},\"bgcolor\":\"#E5ECF6\",\"caxis\":{\"gridcolor\":\"white\",\"linecolor\":\"white\",\"ticks\":\"\"}},\"title\":{\"x\":0.05},\"xaxis\":{\"automargin\":true,\"gridcolor\":\"white\",\"linecolor\":\"white\",\"ticks\":\"\",\"title\":{\"standoff\":15},\"zerolinecolor\":\"white\",\"zerolinewidth\":2},\"yaxis\":{\"automargin\":true,\"gridcolor\":\"white\",\"linecolor\":\"white\",\"ticks\":\"\",\"title\":{\"standoff\":15},\"zerolinecolor\":\"white\",\"zerolinewidth\":2}}},\"xaxis\":{\"anchor\":\"y\",\"domain\":[0.0,1.0],\"title\":{\"text\":\"PURPOSE*\"}},\"yaxis\":{\"anchor\":\"x\",\"domain\":[0.0,1.0],\"title\":{\"text\":\"value\"}},\"legend\":{\"title\":{\"text\":\"variable\"},\"tracegroupgap\":0},\"margin\":{\"t\":60},\"barmode\":\"relative\"},                        {\"responsive\": true}                    ).then(function(){\n",
              "                            \n",
              "var gd = document.getElementById('b476b6f1-e446-4e17-b39b-8d218578b655');\n",
              "var x = new MutationObserver(function (mutations, observer) {{\n",
              "        var display = window.getComputedStyle(gd).display;\n",
              "        if (!display || display === 'none') {{\n",
              "            console.log([gd, 'removed!']);\n",
              "            Plotly.purge(gd);\n",
              "            observer.disconnect();\n",
              "        }}\n",
              "}});\n",
              "\n",
              "// Listen for the removal of the full notebook cells\n",
              "var notebookContainer = gd.closest('#notebook-container');\n",
              "if (notebookContainer) {{\n",
              "    x.observe(notebookContainer, {childList: true});\n",
              "}}\n",
              "\n",
              "// Listen for the clearing of the current output cell\n",
              "var outputEl = gd.closest('.output');\n",
              "if (outputEl) {{\n",
              "    x.observe(outputEl, {childList: true});\n",
              "}}\n",
              "\n",
              "                        })                };                            </script>        </div>\n",
              "</body>\n",
              "</html>"
            ]
          },
          "metadata": {}
        }
      ],
      "source": [
        "a = data.groupby('PURPOSE*').sum().sort_values(by = 'MILES*',ascending=False)\n",
        "\n",
        "\n",
        "import seaborn as sns\n",
        "import plotly.express as px\n",
        "px.bar(a)"
      ]
    },
    {
      "cell_type": "markdown",
      "metadata": {
        "id": "b7-pD446199j"
      },
      "source": [
        "## Q20. Print a dataframe of Purposes and the distance travelled for that particular Purpose. (3 points)\n",
        "### Note: Use the original dataframe without dropping \"NA\" values"
      ]
    },
    {
      "cell_type": "code",
      "execution_count": null,
      "metadata": {
        "colab": {
          "base_uri": "https://localhost:8080/",
          "height": 394
        },
        "id": "Em4d7Ng9199k",
        "outputId": "52cce925-54f8-4765-c465-c56d16e8e466"
      },
      "outputs": [
        {
          "output_type": "execute_result",
          "data": {
            "text/plain": [
              "                 MILES*\n",
              "PURPOSE*               \n",
              "Meeting          2851.3\n",
              "Customer Visit   2089.5\n",
              "Meal/Entertain    911.7\n",
              "Temporary Site    523.7\n",
              "Errand/Supplies   508.0\n",
              "Between Offices   197.0\n",
              "Commute           180.2\n",
              "Moving             18.2\n",
              "Airport/Travel     16.5\n",
              "Charity ($)        15.1"
            ],
            "text/html": [
              "\n",
              "  <div id=\"df-6bfc785d-161f-4afd-845a-24e99e455ddd\">\n",
              "    <div class=\"colab-df-container\">\n",
              "      <div>\n",
              "<style scoped>\n",
              "    .dataframe tbody tr th:only-of-type {\n",
              "        vertical-align: middle;\n",
              "    }\n",
              "\n",
              "    .dataframe tbody tr th {\n",
              "        vertical-align: top;\n",
              "    }\n",
              "\n",
              "    .dataframe thead th {\n",
              "        text-align: right;\n",
              "    }\n",
              "</style>\n",
              "<table border=\"1\" class=\"dataframe\">\n",
              "  <thead>\n",
              "    <tr style=\"text-align: right;\">\n",
              "      <th></th>\n",
              "      <th>MILES*</th>\n",
              "    </tr>\n",
              "    <tr>\n",
              "      <th>PURPOSE*</th>\n",
              "      <th></th>\n",
              "    </tr>\n",
              "  </thead>\n",
              "  <tbody>\n",
              "    <tr>\n",
              "      <th>Meeting</th>\n",
              "      <td>2851.3</td>\n",
              "    </tr>\n",
              "    <tr>\n",
              "      <th>Customer Visit</th>\n",
              "      <td>2089.5</td>\n",
              "    </tr>\n",
              "    <tr>\n",
              "      <th>Meal/Entertain</th>\n",
              "      <td>911.7</td>\n",
              "    </tr>\n",
              "    <tr>\n",
              "      <th>Temporary Site</th>\n",
              "      <td>523.7</td>\n",
              "    </tr>\n",
              "    <tr>\n",
              "      <th>Errand/Supplies</th>\n",
              "      <td>508.0</td>\n",
              "    </tr>\n",
              "    <tr>\n",
              "      <th>Between Offices</th>\n",
              "      <td>197.0</td>\n",
              "    </tr>\n",
              "    <tr>\n",
              "      <th>Commute</th>\n",
              "      <td>180.2</td>\n",
              "    </tr>\n",
              "    <tr>\n",
              "      <th>Moving</th>\n",
              "      <td>18.2</td>\n",
              "    </tr>\n",
              "    <tr>\n",
              "      <th>Airport/Travel</th>\n",
              "      <td>16.5</td>\n",
              "    </tr>\n",
              "    <tr>\n",
              "      <th>Charity ($)</th>\n",
              "      <td>15.1</td>\n",
              "    </tr>\n",
              "  </tbody>\n",
              "</table>\n",
              "</div>\n",
              "      <button class=\"colab-df-convert\" onclick=\"convertToInteractive('df-6bfc785d-161f-4afd-845a-24e99e455ddd')\"\n",
              "              title=\"Convert this dataframe to an interactive table.\"\n",
              "              style=\"display:none;\">\n",
              "        \n",
              "  <svg xmlns=\"http://www.w3.org/2000/svg\" height=\"24px\"viewBox=\"0 0 24 24\"\n",
              "       width=\"24px\">\n",
              "    <path d=\"M0 0h24v24H0V0z\" fill=\"none\"/>\n",
              "    <path d=\"M18.56 5.44l.94 2.06.94-2.06 2.06-.94-2.06-.94-.94-2.06-.94 2.06-2.06.94zm-11 1L8.5 8.5l.94-2.06 2.06-.94-2.06-.94L8.5 2.5l-.94 2.06-2.06.94zm10 10l.94 2.06.94-2.06 2.06-.94-2.06-.94-.94-2.06-.94 2.06-2.06.94z\"/><path d=\"M17.41 7.96l-1.37-1.37c-.4-.4-.92-.59-1.43-.59-.52 0-1.04.2-1.43.59L10.3 9.45l-7.72 7.72c-.78.78-.78 2.05 0 2.83L4 21.41c.39.39.9.59 1.41.59.51 0 1.02-.2 1.41-.59l7.78-7.78 2.81-2.81c.8-.78.8-2.07 0-2.86zM5.41 20L4 18.59l7.72-7.72 1.47 1.35L5.41 20z\"/>\n",
              "  </svg>\n",
              "      </button>\n",
              "      \n",
              "  <style>\n",
              "    .colab-df-container {\n",
              "      display:flex;\n",
              "      flex-wrap:wrap;\n",
              "      gap: 12px;\n",
              "    }\n",
              "\n",
              "    .colab-df-convert {\n",
              "      background-color: #E8F0FE;\n",
              "      border: none;\n",
              "      border-radius: 50%;\n",
              "      cursor: pointer;\n",
              "      display: none;\n",
              "      fill: #1967D2;\n",
              "      height: 32px;\n",
              "      padding: 0 0 0 0;\n",
              "      width: 32px;\n",
              "    }\n",
              "\n",
              "    .colab-df-convert:hover {\n",
              "      background-color: #E2EBFA;\n",
              "      box-shadow: 0px 1px 2px rgba(60, 64, 67, 0.3), 0px 1px 3px 1px rgba(60, 64, 67, 0.15);\n",
              "      fill: #174EA6;\n",
              "    }\n",
              "\n",
              "    [theme=dark] .colab-df-convert {\n",
              "      background-color: #3B4455;\n",
              "      fill: #D2E3FC;\n",
              "    }\n",
              "\n",
              "    [theme=dark] .colab-df-convert:hover {\n",
              "      background-color: #434B5C;\n",
              "      box-shadow: 0px 1px 3px 1px rgba(0, 0, 0, 0.15);\n",
              "      filter: drop-shadow(0px 1px 2px rgba(0, 0, 0, 0.3));\n",
              "      fill: #FFFFFF;\n",
              "    }\n",
              "  </style>\n",
              "\n",
              "      <script>\n",
              "        const buttonEl =\n",
              "          document.querySelector('#df-6bfc785d-161f-4afd-845a-24e99e455ddd button.colab-df-convert');\n",
              "        buttonEl.style.display =\n",
              "          google.colab.kernel.accessAllowed ? 'block' : 'none';\n",
              "\n",
              "        async function convertToInteractive(key) {\n",
              "          const element = document.querySelector('#df-6bfc785d-161f-4afd-845a-24e99e455ddd');\n",
              "          const dataTable =\n",
              "            await google.colab.kernel.invokeFunction('convertToInteractive',\n",
              "                                                     [key], {});\n",
              "          if (!dataTable) return;\n",
              "\n",
              "          const docLinkHtml = 'Like what you see? Visit the ' +\n",
              "            '<a target=\"_blank\" href=https://colab.research.google.com/notebooks/data_table.ipynb>data table notebook</a>'\n",
              "            + ' to learn more about interactive tables.';\n",
              "          element.innerHTML = '';\n",
              "          dataTable['output_type'] = 'display_data';\n",
              "          await google.colab.output.renderOutput(dataTable, element);\n",
              "          const docLink = document.createElement('div');\n",
              "          docLink.innerHTML = docLinkHtml;\n",
              "          element.appendChild(docLink);\n",
              "        }\n",
              "      </script>\n",
              "    </div>\n",
              "  </div>\n",
              "  "
            ]
          },
          "metadata": {},
          "execution_count": 99
        }
      ],
      "source": [
        "data.groupby('PURPOSE*').sum().sort_values(by = 'MILES*', ascending = False)"
      ]
    },
    {
      "cell_type": "markdown",
      "metadata": {
        "id": "CIZBaeSt199o"
      },
      "source": [
        "## Q21. Plot number of trips vs Category of trips. (5 points)\n",
        "### Note: Use the original dataframe without dropping the 'NA' values.\n",
        "### Hint : You can make a countplot or barplot."
      ]
    },
    {
      "cell_type": "code",
      "execution_count": null,
      "metadata": {
        "colab": {
          "base_uri": "https://localhost:8080/",
          "height": 296
        },
        "id": "fRuxSI0W199p",
        "outputId": "00913fff-9d16-4423-b089-a0aaab493e19"
      },
      "outputs": [
        {
          "output_type": "execute_result",
          "data": {
            "text/plain": [
              "<matplotlib.axes._subplots.AxesSubplot at 0x7fbfe33839d0>"
            ]
          },
          "metadata": {},
          "execution_count": 105
        },
        {
          "output_type": "display_data",
          "data": {
            "text/plain": [
              "<Figure size 432x288 with 1 Axes>"
            ],
            "image/png": "[encoded data removed]"
          },
          "metadata": {
            "needs_background": "light"
          }
        }
      ],
      "source": [
        "sns.countplot(data = data, x='CATEGORY*')"
      ]
    },
    {
      "cell_type": "markdown",
      "metadata": {
        "id": "VgzSzOt9199t"
      },
      "source": [
        "## Q22. What is proportion of miles that are covered as Business trips and what is the proportion of miles that are covered as Personal trips? (5 points)\n",
        "\n",
        "### Note:Use the original dataframe without dropping the 'NA' values. The proportion calculation  is with respect to the 'miles' variable.\n",
        "### Hint: Proportion is the miles covered as business trips by total sum of miles and miles  covered as personal trips by total number of miles"
      ]
    },
    {
      "cell_type": "code",
      "execution_count": null,
      "metadata": {
        "colab": {
          "base_uri": "https://localhost:8080/"
        },
        "id": "K6ExiAiI199u",
        "outputId": "5ab96fb5-fed0-4f99-a814-648ccfd80c3a"
      },
      "outputs": [
        {
          "output_type": "stream",
          "name": "stdout",
          "text": [
            "             MILES*\n",
            "CATEGORY*          \n",
            "Business   0.941195\n",
            "Personal   0.058805\n",
            "12204.7\n"
          ]
        }
      ],
      "source": [
        "print(data.groupby('CATEGORY*').sum()/data['MILES*'].sum())\n",
        "print(data['MILES*'].sum())"
      ]
    },
    {
      "cell_type": "code",
      "source": [
        "data.groupby('CATEGORY*').sum()/data['MILES*'].sum()"
      ],
      "metadata": {
        "colab": {
          "base_uri": "https://localhost:8080/",
          "height": 143
        },
        "id": "N7Bp-8zyHVkw",
        "outputId": "60f0029f-b96b-4e9a-82cc-84449c627e92"
      },
      "execution_count": null,
      "outputs": [
        {
          "output_type": "execute_result",
          "data": {
            "text/plain": [
              "             MILES*\n",
              "CATEGORY*          \n",
              "Business   0.941195\n",
              "Personal   0.058805"
            ],
            "text/html": [
              "\n",
              "  <div id=\"df-dfd94f8c-abc7-46a5-b6d5-8ac2d4101073\">\n",
              "    <div class=\"colab-df-container\">\n",
              "      <div>\n",
              "<style scoped>\n",
              "    .dataframe tbody tr th:only-of-type {\n",
              "        vertical-align: middle;\n",
              "    }\n",
              "\n",
              "    .dataframe tbody tr th {\n",
              "        vertical-align: top;\n",
              "    }\n",
              "\n",
              "    .dataframe thead th {\n",
              "        text-align: right;\n",
              "    }\n",
              "</style>\n",
              "<table border=\"1\" class=\"dataframe\">\n",
              "  <thead>\n",
              "    <tr style=\"text-align: right;\">\n",
              "      <th></th>\n",
              "      <th>MILES*</th>\n",
              "    </tr>\n",
              "    <tr>\n",
              "      <th>CATEGORY*</th>\n",
              "      <th></th>\n",
              "    </tr>\n",
              "  </thead>\n",
              "  <tbody>\n",
              "    <tr>\n",
              "      <th>Business</th>\n",
              "      <td>0.941195</td>\n",
              "    </tr>\n",
              "    <tr>\n",
              "      <th>Personal</th>\n",
              "      <td>0.058805</td>\n",
              "    </tr>\n",
              "  </tbody>\n",
              "</table>\n",
              "</div>\n",
              "      <button class=\"colab-df-convert\" onclick=\"convertToInteractive('df-dfd94f8c-abc7-46a5-b6d5-8ac2d4101073')\"\n",
              "              title=\"Convert this dataframe to an interactive table.\"\n",
              "              style=\"display:none;\">\n",
              "        \n",
              "  <svg xmlns=\"http://www.w3.org/2000/svg\" height=\"24px\"viewBox=\"0 0 24 24\"\n",
              "       width=\"24px\">\n",
              "    <path d=\"M0 0h24v24H0V0z\" fill=\"none\"/>\n",
              "    <path d=\"M18.56 5.44l.94 2.06.94-2.06 2.06-.94-2.06-.94-.94-2.06-.94 2.06-2.06.94zm-11 1L8.5 8.5l.94-2.06 2.06-.94-2.06-.94L8.5 2.5l-.94 2.06-2.06.94zm10 10l.94 2.06.94-2.06 2.06-.94-2.06-.94-.94-2.06-.94 2.06-2.06.94z\"/><path d=\"M17.41 7.96l-1.37-1.37c-.4-.4-.92-.59-1.43-.59-.52 0-1.04.2-1.43.59L10.3 9.45l-7.72 7.72c-.78.78-.78 2.05 0 2.83L4 21.41c.39.39.9.59 1.41.59.51 0 1.02-.2 1.41-.59l7.78-7.78 2.81-2.81c.8-.78.8-2.07 0-2.86zM5.41 20L4 18.59l7.72-7.72 1.47 1.35L5.41 20z\"/>\n",
              "  </svg>\n",
              "      </button>\n",
              "      \n",
              "  <style>\n",
              "    .colab-df-container {\n",
              "      display:flex;\n",
              "      flex-wrap:wrap;\n",
              "      gap: 12px;\n",
              "    }\n",
              "\n",
              "    .colab-df-convert {\n",
              "      background-color: #E8F0FE;\n",
              "      border: none;\n",
              "      border-radius: 50%;\n",
              "      cursor: pointer;\n",
              "      display: none;\n",
              "      fill: #1967D2;\n",
              "      height: 32px;\n",
              "      padding: 0 0 0 0;\n",
              "      width: 32px;\n",
              "    }\n",
              "\n",
              "    .colab-df-convert:hover {\n",
              "      background-color: #E2EBFA;\n",
              "      box-shadow: 0px 1px 2px rgba(60, 64, 67, 0.3), 0px 1px 3px 1px rgba(60, 64, 67, 0.15);\n",
              "      fill: #174EA6;\n",
              "    }\n",
              "\n",
              "    [theme=dark] .colab-df-convert {\n",
              "      background-color: #3B4455;\n",
              "      fill: #D2E3FC;\n",
              "    }\n",
              "\n",
              "    [theme=dark] .colab-df-convert:hover {\n",
              "      background-color: #434B5C;\n",
              "      box-shadow: 0px 1px 3px 1px rgba(0, 0, 0, 0.15);\n",
              "      filter: drop-shadow(0px 1px 2px rgba(0, 0, 0, 0.3));\n",
              "      fill: #FFFFFF;\n",
              "    }\n",
              "  </style>\n",
              "\n",
              "      <script>\n",
              "        const buttonEl =\n",
              "          document.querySelector('#df-dfd94f8c-abc7-46a5-b6d5-8ac2d4101073 button.colab-df-convert');\n",
              "        buttonEl.style.display =\n",
              "          google.colab.kernel.accessAllowed ? 'block' : 'none';\n",
              "\n",
              "        async function convertToInteractive(key) {\n",
              "          const element = document.querySelector('#df-dfd94f8c-abc7-46a5-b6d5-8ac2d4101073');\n",
              "          const dataTable =\n",
              "            await google.colab.kernel.invokeFunction('convertToInteractive',\n",
              "                                                     [key], {});\n",
              "          if (!dataTable) return;\n",
              "\n",
              "          const docLinkHtml = 'Like what you see? Visit the ' +\n",
              "            '<a target=\"_blank\" href=https://colab.research.google.com/notebooks/data_table.ipynb>data table notebook</a>'\n",
              "            + ' to learn more about interactive tables.';\n",
              "          element.innerHTML = '';\n",
              "          dataTable['output_type'] = 'display_data';\n",
              "          await google.colab.output.renderOutput(dataTable, element);\n",
              "          const docLink = document.createElement('div');\n",
              "          docLink.innerHTML = docLinkHtml;\n",
              "          element.appendChild(docLink);\n",
              "        }\n",
              "      </script>\n",
              "    </div>\n",
              "  </div>\n",
              "  "
            ]
          },
          "metadata": {},
          "execution_count": 134
        }
      ]
    }
  ],
  "metadata": {
    "colab": {
      "collapsed_sections": [],
      "provenance": []
    },
    "kernelspec": {
      "display_name": "Python 3",
      "language": "python",
      "name": "python3"
    },
    "language_info": {
      "codemirror_mode": {
        "name": "ipython",
        "version": 3
      },
      "file_extension": ".py",
      "mimetype": "text/x-python",
      "name": "python",
      "nbconvert_exporter": "python",
      "pygments_lexer": "ipython3",
      "version": "3.8.5"
    },
    "toc": {
      "base_numbering": 1,
      "nav_menu": {},
      "number_sections": true,
      "sideBar": true,
      "skip_h1_title": false,
      "title_cell": "Table of Contents",
      "title_sidebar": "Contents",
      "toc_cell": false,
      "toc_position": {},
      "toc_section_display": true,
      "toc_window_display": false
    },
    "varInspector": {
      "cols": {
        "lenName": 16,
        "lenType": 16,
        "lenVar": 40
      },
      "kernels_config": {
        "python": {
          "delete_cmd_postfix": "",
          "delete_cmd_prefix": "del ",
          "library": "var_list.py",
          "varRefreshCmd": "print(var_dic_list())"
        },
        "r": {
          "delete_cmd_postfix": ") ",
          "delete_cmd_prefix": "rm(",
          "library": "var_list.r",
          "varRefreshCmd": "cat(var_dic_list()) "
        }
      },
      "types_to_exclude": [
        "module",
        "function",
        "builtin_function_or_method",
        "instance",
        "_Feature"
      ],
      "window_display": false
    }
  },
  "nbformat": 4,
  "nbformat_minor": 0
}